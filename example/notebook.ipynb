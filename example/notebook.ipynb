{
 "cells": [
  {
   "cell_type": "markdown",
   "metadata": {},
   "source": [
    "### 1. Install new environment using conda, using dependencies from requirements.txt\n",
    "``` conda create lbs_rna -c conda-forge --file requirements.txt```"
   ]
  },
  {
   "cell_type": "markdown",
   "metadata": {},
   "source": [
    "### 2. Download train/test data from Kaggle\n",
    "Train set: https://www.kaggle.com/competitions/stanford-ribonanza-rna-folding/data?select=train_data.csv\n",
    "Test set: https://www.kaggle.com/competitions/stanford-ribonanza-rna-folding/data?select=test_data.csv\n",
    "\n",
    "We just download these ones, not all metadata as it is huge."
   ]
  },
  {
   "cell_type": "markdown",
   "metadata": {},
   "source": [
    "### 3. Prepare the sequences so that they worked with the neural network\n",
    "Run the script from `../scripts/prepare_base.sh` to prepare the sequences for the neural network.<br>\n",
    "\n",
    "```cd ../scripts && bash prepare_base.sh```\n"
   ]
  },
  {
   "cell_type": "markdown",
   "metadata": {
    "collapsed": true
   },
   "source": [
    "### 4. Cluster the sequences using `cd-hit`\n",
    "[] WIP"
   ]
  }
 ],
 "metadata": {
  "kernelspec": {
   "display_name": "Python 3 (ipykernel)",
   "language": "python",
   "name": "python3"
  },
  "language_info": {
   "codemirror_mode": {
    "name": "ipython",
    "version": 3
   },
   "file_extension": ".py",
   "mimetype": "text/x-python",
   "name": "python",
   "nbconvert_exporter": "python",
   "pygments_lexer": "ipython3",
   "version": "3.11.3"
  }
 },
 "nbformat": 4,
 "nbformat_minor": 2
}
